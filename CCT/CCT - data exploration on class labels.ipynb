{
 "cells": [
  {
   "cell_type": "markdown",
   "metadata": {},
   "source": [
    "# CCT Dataset\n",
    "Caltech Camera Traps - released in 2018.\n",
    "\n",
    "Infos at https://beerys.github.io/CaltechCameraTraps/"
   ]
  },
  {
   "cell_type": "code",
   "execution_count": 1,
   "metadata": {},
   "outputs": [],
   "source": [
    "import json\n",
    "import pandas as pd\n",
    "from collections import Counter"
   ]
  },
  {
   "cell_type": "code",
   "execution_count": 2,
   "metadata": {},
   "outputs": [],
   "source": [
    "with open('cct_labels_class.json') as json_file:\n",
    "    data = json.load(json_file)"
   ]
  },
  {
   "cell_type": "markdown",
   "metadata": {},
   "source": [
    "## Data structure\n",
    "\n",
    "243,100 images, labelled with 245,118 annotations into 22 categories"
   ]
  },
  {
   "cell_type": "code",
   "execution_count": 3,
   "metadata": {},
   "outputs": [
    {
     "data": {
      "text/plain": [
       "dict_keys(['images', 'annotations', 'categories', 'info'])"
      ]
     },
     "execution_count": 3,
     "metadata": {},
     "output_type": "execute_result"
    }
   ],
   "source": [
    "data.keys()"
   ]
  },
  {
   "cell_type": "code",
   "execution_count": 4,
   "metadata": {
    "scrolled": true
   },
   "outputs": [
    {
     "data": {
      "text/plain": [
       "245118"
      ]
     },
     "execution_count": 4,
     "metadata": {},
     "output_type": "execute_result"
    }
   ],
   "source": [
    "len(data['annotations'])"
   ]
  },
  {
   "cell_type": "code",
   "execution_count": 5,
   "metadata": {
    "scrolled": false
   },
   "outputs": [
    {
     "data": {
      "text/plain": [
       "243100"
      ]
     },
     "execution_count": 5,
     "metadata": {},
     "output_type": "execute_result"
    }
   ],
   "source": [
    "len(data['images'])"
   ]
  },
  {
   "cell_type": "code",
   "execution_count": 6,
   "metadata": {},
   "outputs": [
    {
     "data": {
      "text/plain": [
       "22"
      ]
     },
     "execution_count": 6,
     "metadata": {},
     "output_type": "execute_result"
    }
   ],
   "source": [
    "len(data['categories'])"
   ]
  },
  {
   "cell_type": "markdown",
   "metadata": {},
   "source": [
    "### Image info\n",
    "Each image belongs to **sequence**:\n",
    "- `seq_id`: id of the sequence,\n",
    "- `seq_num_frames`: number of frames in that sequence,\n",
    "- `frame_num`: frame number of the individual image in that sequence\n",
    "\n",
    "Besides that, each image has a **unique image id**:\n",
    "- `id`: unique image id"
   ]
  },
  {
   "cell_type": "code",
   "execution_count": 7,
   "metadata": {
    "scrolled": false
   },
   "outputs": [
    {
     "data": {
      "text/plain": [
       "{'seq_num_frames': 1,\n",
       " 'date_captured': '2013-10-04 13:31:53',\n",
       " 'seq_id': '6f2160eb-5567-11e8-990e-dca9047ef277',\n",
       " 'height': 1494,\n",
       " 'width': 2048,\n",
       " 'location': '26',\n",
       " 'rights_holder': 'Erin Boydston',\n",
       " 'file_name': 'train_val/5968c0f9-23d2-11e8-a6a3-ec086b02610b.jpg',\n",
       " 'id': '5968c0f9-23d2-11e8-a6a3-ec086b02610b',\n",
       " 'frame_num': 1}"
      ]
     },
     "execution_count": 7,
     "metadata": {},
     "output_type": "execute_result"
    }
   ],
   "source": [
    "data['images'][0]"
   ]
  },
  {
   "cell_type": "code",
   "execution_count": 8,
   "metadata": {},
   "outputs": [
    {
     "data": {
      "text/plain": [
       "243100"
      ]
     },
     "execution_count": 8,
     "metadata": {},
     "output_type": "execute_result"
    }
   ],
   "source": [
    "image_ids = [image['id'] for image in data['images']]\n",
    "image_ids = pd.Series(image_ids)\n",
    "image_ids.nunique()"
   ]
  },
  {
   "cell_type": "markdown",
   "metadata": {},
   "source": [
    "### Annotation info\n",
    "Each annotation has its own **unique annotation id**:\n",
    "- `id`: unique annotation id\n",
    "\n",
    "Each annotation **associates a label to an image**:\n",
    "- `image_id`: image this annotation relates to\n",
    "- `category_id`: label (category) for that image"
   ]
  },
  {
   "cell_type": "code",
   "execution_count": 9,
   "metadata": {
    "scrolled": false
   },
   "outputs": [
    {
     "data": {
      "text/plain": [
       "{'id': '207268a3-7d5b-11e7-884d-7845c41c2c67',\n",
       " 'category_id': 6,\n",
       " 'image_id': '58d61304-23d2-11e8-a6a3-ec086b02610b'}"
      ]
     },
     "execution_count": 9,
     "metadata": {},
     "output_type": "execute_result"
    }
   ],
   "source": [
    "data['annotations'][0]"
   ]
  },
  {
   "cell_type": "markdown",
   "metadata": {},
   "source": [
    "### Category info\n",
    "\n",
    "Each category has a **unique id**:\n",
    "- `id`: unique id for this category\n",
    "- `name`: class name for this category"
   ]
  },
  {
   "cell_type": "code",
   "execution_count": 10,
   "metadata": {},
   "outputs": [
    {
     "data": {
      "text/plain": [
       "{'name': 'bobcat', 'id': 6}"
      ]
     },
     "execution_count": 10,
     "metadata": {},
     "output_type": "execute_result"
    }
   ],
   "source": [
    "data['categories'][0]"
   ]
  },
  {
   "cell_type": "markdown",
   "metadata": {},
   "source": [
    "### Class imbalance\n",
    "Class representation in the annotations is widely imbalanced.\n",
    "\n",
    "**More than half (51.3%) of the annotations are the \"empty\" (id=30) class.**\n",
    "\n",
    "In contrast, categories \"pig\" (id=39), \"bat\" (id=66) and \"insect (id=97) are underrepresented with less than 10 annotations each. "
   ]
  },
  {
   "cell_type": "code",
   "execution_count": 11,
   "metadata": {
    "scrolled": true
   },
   "outputs": [
    {
     "data": {
      "text/plain": [
       "<matplotlib.axes._subplots.AxesSubplot at 0x7eff2cffcc18>"
      ]
     },
     "execution_count": 11,
     "metadata": {},
     "output_type": "execute_result"
    },
    {
     "data": {
      "image/png": "[encoded data removed]",
      "text/plain": [
       "<Figure size 432x288 with 1 Axes>"
      ]
     },
     "metadata": {
      "needs_background": "light"
     },
     "output_type": "display_data"
    }
   ],
   "source": [
    "labels = [annotation['category_id'] for annotation in data['annotations']]\n",
    "series_labels = pd.Series(labels)\n",
    "series_labels.value_counts().sort_index().plot(kind='bar', title=\"Number of annotations per category\")"
   ]
  },
  {
   "cell_type": "code",
   "execution_count": 12,
   "metadata": {},
   "outputs": [
    {
     "data": {
      "text/plain": [
       "{'name': 'empty', 'id': 30}"
      ]
     },
     "execution_count": 12,
     "metadata": {},
     "output_type": "execute_result"
    }
   ],
   "source": [
    "data['categories'][2]"
   ]
  },
  {
   "cell_type": "code",
   "execution_count": 13,
   "metadata": {},
   "outputs": [
    {
     "data": {
      "text/plain": [
       "0.513"
      ]
     },
     "execution_count": 13,
     "metadata": {},
     "output_type": "execute_result"
    }
   ],
   "source": [
    "nb_empty_annotations = series_labels.value_counts().sort_index()[30]\n",
    "nb_total_annotations = len(series_labels)\n",
    "prop_empty = nb_empty_annotations / nb_total_annotations\n",
    "round(prop_empty, 3)"
   ]
  },
  {
   "cell_type": "code",
   "execution_count": 14,
   "metadata": {
    "scrolled": true
   },
   "outputs": [
    {
     "data": {
      "text/plain": [
       "<matplotlib.axes._subplots.AxesSubplot at 0x7eff29c5e278>"
      ]
     },
     "execution_count": 14,
     "metadata": {},
     "output_type": "execute_result"
    },
    {
     "data": {
      "image/png": "[encoded data removed]",
      "text/plain": [
       "<Figure size 432x288 with 1 Axes>"
      ]
     },
     "metadata": {
      "needs_background": "light"
     },
     "output_type": "display_data"
    }
   ],
   "source": [
    "series_labels.value_counts().sort_values()[:-1].plot(kind='bar', title=\"Number of annotations for non-empty categories\")"
   ]
  },
  {
   "cell_type": "code",
   "execution_count": 15,
   "metadata": {},
   "outputs": [
    {
     "data": {
      "text/plain": [
       "[{'name': 'pig', 'id': 39},\n",
       " {'name': 'mountain_lion', 'id': 40},\n",
       " {'name': 'bat', 'id': 66},\n",
       " {'name': 'insect', 'id': 97}]"
      ]
     },
     "execution_count": 15,
     "metadata": {},
     "output_type": "execute_result"
    }
   ],
   "source": [
    "data['categories'][-4:]"
   ]
  },
  {
   "cell_type": "code",
   "execution_count": 16,
   "metadata": {
    "scrolled": true
   },
   "outputs": [
    {
     "data": {
      "text/plain": [
       "{'year': 2018,\n",
       " 'contributor': 'Sara Beery',\n",
       " 'date_created': '2018-07-03 18:34:36.573636',\n",
       " 'version': '20200316',\n",
       " 'description': 'Caltech Camera Traps: Database of camera trap images collected from the NPS and the USGS with help from Justin Brown and Erin Boydston'}"
      ]
     },
     "execution_count": 16,
     "metadata": {},
     "output_type": "execute_result"
    }
   ],
   "source": [
    "data['info']"
   ]
  },
  {
   "cell_type": "markdown",
   "metadata": {},
   "source": [
    "### Linking images and labels\n",
    "eg: image id `5858bf1e-23d2-11e8-a6a3-ec086b02610b`"
   ]
  },
  {
   "cell_type": "code",
   "execution_count": 18,
   "metadata": {},
   "outputs": [
    {
     "data": {
      "text/plain": [
       "{'seq_num_frames': 1,\n",
       " 'date_captured': '2013-10-04 13:31:53',\n",
       " 'seq_id': '6f2160eb-5567-11e8-990e-dca9047ef277',\n",
       " 'height': 1494,\n",
       " 'width': 2048,\n",
       " 'location': '26',\n",
       " 'rights_holder': 'Erin Boydston',\n",
       " 'file_name': 'train_val/5968c0f9-23d2-11e8-a6a3-ec086b02610b.jpg',\n",
       " 'id': '5968c0f9-23d2-11e8-a6a3-ec086b02610b',\n",
       " 'frame_num': 1}"
      ]
     },
     "execution_count": 18,
     "metadata": {},
     "output_type": "execute_result"
    }
   ],
   "source": [
    "data['images'][0]"
   ]
  },
  {
   "cell_type": "code",
   "execution_count": 19,
   "metadata": {},
   "outputs": [
    {
     "data": {
      "text/plain": [
       "{'id': '207268a3-7d5b-11e7-884d-7845c41c2c67',\n",
       " 'category_id': 6,\n",
       " 'image_id': '58d61304-23d2-11e8-a6a3-ec086b02610b'}"
      ]
     },
     "execution_count": 19,
     "metadata": {},
     "output_type": "execute_result"
    }
   ],
   "source": [
    "data['annotations'][0]"
   ]
  },
  {
   "cell_type": "code",
   "execution_count": 22,
   "metadata": {},
   "outputs": [
    {
     "data": {
      "text/plain": [
       "{'name': 'bobcat', 'id': 6}"
      ]
     },
     "execution_count": 22,
     "metadata": {},
     "output_type": "execute_result"
    }
   ],
   "source": [
    "data['categories'][0]"
   ]
  },
  {
   "cell_type": "markdown",
   "metadata": {},
   "source": [
    "## BBox labels"
   ]
  },
  {
   "cell_type": "markdown",
   "metadata": {},
   "source": [
    "bounding box annotations for a subset of **57,864 images** from 20 locations\n",
    "\n",
    "### Annotation info\n",
    "Each annotation has its own **unique annotation id**:\n",
    "* `id`: unique annotation id\n",
    "\n",
    "Each annotation associates a **label** and a **bbox** to an image:\n",
    "* `image_id`: image this annotation relates to\n",
    "* `category_id`: label (category) for that image\n",
    "* `bbox`: [x, y, width, height] coordinates and size of the bounding box"
   ]
  },
  {
   "cell_type": "code",
   "execution_count": 25,
   "metadata": {},
   "outputs": [],
   "source": [
    "with open('cct_labels_bbox.json') as json_file:\n",
    "    bbox = json.load(json_file)"
   ]
  },
  {
   "cell_type": "code",
   "execution_count": 26,
   "metadata": {},
   "outputs": [
    {
     "data": {
      "text/plain": [
       "dict_keys(['info', 'categories', 'annotations', 'images'])"
      ]
     },
     "execution_count": 26,
     "metadata": {},
     "output_type": "execute_result"
    }
   ],
   "source": [
    "bbox.keys()"
   ]
  },
  {
   "cell_type": "code",
   "execution_count": 27,
   "metadata": {},
   "outputs": [
    {
     "data": {
      "text/plain": [
       "{'image_id': '5998cfa4-23d2-11e8-a6a3-ec086b02610b',\n",
       " 'id': '2a545520-cbf1-11e8-819c-970a9450cdbc',\n",
       " 'bbox': [499.2, 711.68, 353.28000000000003, 199.67999999999995],\n",
       " 'category_id': 1}"
      ]
     },
     "execution_count": 27,
     "metadata": {},
     "output_type": "execute_result"
    }
   ],
   "source": [
    "bbox['annotations'][0]"
   ]
  },
  {
   "cell_type": "code",
   "execution_count": 30,
   "metadata": {},
   "outputs": [
    {
     "name": "stdout",
     "output_type": "stream",
     "text": [
      "5858bf1e-23d2-11e8-a6a3-ec086b02610b.jpg\r\n"
     ]
    }
   ],
   "source": [
    "!ls images"
   ]
  },
  {
   "cell_type": "code",
   "execution_count": null,
   "metadata": {},
   "outputs": [],
   "source": []
  }
 ],
 "metadata": {
  "kernelspec": {
   "display_name": "Python 3",
   "language": "python",
   "name": "python3"
  },
  "language_info": {
   "codemirror_mode": {
    "name": "ipython",
    "version": 3
   },
   "file_extension": ".py",
   "mimetype": "text/x-python",
   "name": "python",
   "nbconvert_exporter": "python",
   "pygments_lexer": "ipython3",
   "version": "3.6.9"
  }
 },
 "nbformat": 4,
 "nbformat_minor": 4
}
